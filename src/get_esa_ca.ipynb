{
 "cells": [
  {
   "cell_type": "code",
   "execution_count": 60,
   "id": "cfce6b05",
   "metadata": {},
   "outputs": [
    {
     "name": "stdout",
     "output_type": "stream",
     "text": [
      "[]\n",
      "[('2023BU', '2023-01-27', 9967), ('2023AV', '2023-01-12', 15549)]\n"
     ]
    }
   ],
   "source": [
    "import requests\n",
    "import re\n",
    "\n",
    "_esa_url_base = 'https://neo.ssa.esa.int/'\n",
    "\n",
    "_url_map = {'upcoming' : _esa_url_base + 'PSDB-portlet/download?file=esa_upcoming_close_app',\n",
    "            'recent':    _esa_url_base + 'PSDB-portlet/download?file=esa_recent_close_app',\n",
    "            'impacted' : _esa_url_base + 'PSDB-portlet/download?file=past_impactors_list'}\n",
    "\n",
    "def get_esa_data(data_type, ca_threshold):\n",
    "\n",
    "    r = requests.get(_url_map[data_type])\n",
    "\n",
    "    r.raise_for_status()\n",
    "\n",
    "    ca_list = []\n",
    "    line_no = 0\n",
    "    if data_type in ('upcoming', 'recent'):\n",
    "        for line in r.iter_lines():\n",
    "            line_no += 1\n",
    "            line = line.decode(r.encoding)\n",
    "            ca_tuple = line.split('|')\n",
    "            num_desig = ca_tuple[0][0:10].strip()\n",
    "            if line_no > 4:\n",
    "                ca_miss_km = int(ca_tuple[2].strip())\n",
    "                if ca_miss_km < ca_threshold:\n",
    "                    ca_date = ca_tuple[1].strip()\n",
    "                    ca_list.append((num_desig, ca_date, ca_miss_km))\n",
    "    elif kind == 'impacted':\n",
    "        pass\n",
    "    else:\n",
    "            raise ValueError(\"Invalid data type request: {}\".format(data_type))\n",
    "    return ca_list\n",
    "\n",
    "def normalize_name(esa_name):\n",
    "    '''Given ESA name without a space, return Horizons name (with name)\n",
    "       e.g. 2023BU -> 2023 BU\n",
    "            \n",
    "    '''\n",
    "    r = re.compile(\"(\\d{4})([a-zA-Z]{2}.*)\")\n",
    "    try:\n",
    "        g = r.match(esa_name)\n",
    "    except:\n",
    "        return esa_name\n",
    "    if g is not None:\n",
    "        return g.group(1) + ' ' + g.group(2)\n",
    "    else:\n",
    "        return esa_name\n",
    "\n",
    "if __name__ == '__main__':\n",
    "    Rgeo = 42_164 * 1.1 # km\n",
    "\n",
    "    assert normalize_name('2023BU') == '2023 BU'\n",
    "    assert normalize_name('2023BU23') == '2023 BU23'\n",
    "    assert normalize_name('1') == '1'\n",
    "    assert normalize_name('12') == '12'\n",
    "    assert normalize_name('123') == '123'\n",
    "    assert normalize_name('12345') == '12345'\n",
    "    assert normalize_name('123456') == '123456'\n",
    "    assert normalize_name('1234567') == '1234567'\n",
    "    \n",
    "    print(get_esa_data('upcoming',Rgeo))\n",
    "    print(get_esa_data('recent',Rgeo))"
   ]
  },
  {
   "cell_type": "code",
   "execution_count": 58,
   "id": "f269a45f",
   "metadata": {},
   "outputs": [
    {
     "data": {
      "text/plain": [
       "'1234 56'"
      ]
     },
     "execution_count": 58,
     "metadata": {},
     "output_type": "execute_result"
    }
   ],
   "source": [
    "normalize_name('123456')"
   ]
  },
  {
   "cell_type": "code",
   "execution_count": null,
   "id": "f228bea8",
   "metadata": {},
   "outputs": [],
   "source": []
  }
 ],
 "metadata": {
  "kernelspec": {
   "display_name": "Python 3 (ipykernel)",
   "language": "python",
   "name": "python3"
  },
  "language_info": {
   "codemirror_mode": {
    "name": "ipython",
    "version": 3
   },
   "file_extension": ".py",
   "mimetype": "text/x-python",
   "name": "python",
   "nbconvert_exporter": "python",
   "pygments_lexer": "ipython3",
   "version": "3.10.9"
  }
 },
 "nbformat": 4,
 "nbformat_minor": 5
}
